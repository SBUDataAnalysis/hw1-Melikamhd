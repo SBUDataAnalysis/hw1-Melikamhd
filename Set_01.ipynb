{
 "cells": [
  {
   "cell_type": "markdown",
   "metadata": {
    "id": "RlM5hY6G-ChB"
   },
   "source": [
    "The first program"
   ]
  },
  {
   "cell_type": "code",
   "execution_count": 1,
   "metadata": {
    "colab": {
     "base_uri": "https://localhost:8080/"
    },
    "id": "0pr3r94U9pKV",
    "outputId": "f892de44-3141-4e98-a8b7-c694ba024d91"
   },
   "outputs": [
    {
     "name": "stdout",
     "output_type": "stream",
     "text": [
      "Hello world!\n"
     ]
    }
   ],
   "source": [
    "print('Hello world!')"
   ]
  },
  {
   "cell_type": "markdown",
   "metadata": {
    "id": "03P8_w5l-Qeo"
   },
   "source": [
    "## Lists, sets and tuples"
   ]
  },
  {
   "cell_type": "code",
   "execution_count": 2,
   "metadata": {
    "id": "b62OnUiR-JmP"
   },
   "outputs": [],
   "source": [
    "a = [1, 1, 2, 3, 5, 2, 6, 7, 7, 5]  #This is a list\n",
    "b = {1, 1, 2, 3, 5, 2, 6, 7, 7, 5}  #This is a set\n",
    "c = (1, 1, 2, 3, 5, 2, 6, 7, 7, 5)  #This is a tuple"
   ]
  },
  {
   "cell_type": "markdown",
   "metadata": {
    "id": "BWK-UpXh_mCD"
   },
   "source": [
    "Now print each one to see what's the difference between them."
   ]
  },
  {
   "cell_type": "code",
   "execution_count": 3,
   "metadata": {
    "colab": {
     "base_uri": "https://localhost:8080/"
    },
    "id": "IbV7UwrT_Ws4",
    "outputId": "abded92e-62ea-4ed4-e0d9-52dd45a1c5a6"
   },
   "outputs": [
    {
     "name": "stdout",
     "output_type": "stream",
     "text": [
      "a = [1, 1, 2, 3, 5, 2, 6, 7, 7, 5]\n",
      "b = {1, 2, 3, 5, 6, 7}\n",
      "c = (1, 1, 2, 3, 5, 2, 6, 7, 7, 5)\n"
     ]
    }
   ],
   "source": [
    "print('a =', a)\n",
    "print('b =', b)\n",
    "print('c =', c)"
   ]
  },
  {
   "cell_type": "markdown",
   "metadata": {
    "id": "hxbBiYR-_vOM"
   },
   "source": [
    "As you see, sets behave in the way that we expect from math, they only keep one instance of each member and disregard the rest. We can put all kinds of objects in a set, list or tuple."
   ]
  },
  {
   "cell_type": "code",
   "execution_count": 4,
   "metadata": {
    "colab": {
     "base_uri": "https://localhost:8080/"
    },
    "id": "3A2HVSGk_hyF",
    "outputId": "aebc7c87-21b2-42e9-ef0f-367c34083cf7"
   },
   "outputs": [
    {
     "name": "stdout",
     "output_type": "stream",
     "text": [
      "['Salam', 'Sib', 35.43, 12, {1, 2, 3, 5, 6, 7}, 'xy', 44]\n"
     ]
    }
   ],
   "source": [
    "d = ['Salam', 'Sib', 35.43, 12, b, 'x'+'y', 44]\n",
    "print(d)"
   ]
  },
  {
   "cell_type": "markdown",
   "metadata": {
    "id": "kQ6QFyvABDlu"
   },
   "source": [
    " Also try this for a  set and a tuple and print the results."
   ]
  },
  {
   "cell_type": "code",
   "execution_count": 5,
   "metadata": {
    "id": "VPQyjZzfATxQ"
   },
   "outputs": [
    {
     "name": "stdout",
     "output_type": "stream",
     "text": [
      "{35.43, 12, 44, 'xy', 'Sib', 'Salam'}\n",
      "('Salam', 'Sib', 35.43, 12, 'xy', 44)\n"
     ]
    }
   ],
   "source": [
    "e = {'Salam', 'Sib', 35.43, 12, 'x'+'y', 44}\n",
    "print(e)\n",
    "d = ('Salam', 'Sib', 35.43, 12, 'x'+'y', 44)\n",
    "print(d)"
   ]
  },
  {
   "cell_type": "markdown",
   "metadata": {
    "id": "85cvYMhjCM8Z"
   },
   "source": [
    "Now let's see the differense between lists and tuples."
   ]
  },
  {
   "cell_type": "code",
   "execution_count": 6,
   "metadata": {
    "colab": {
     "base_uri": "https://localhost:8080/"
    },
    "id": "OqFUXYSLBTwy",
    "outputId": "a93012c4-8760-4441-8463-78c54199777c"
   },
   "outputs": [
    {
     "name": "stdout",
     "output_type": "stream",
     "text": [
      "[1, 1, 2, 3, 5, 2, 6, 7, 7, 5, [32, 54, 'Adas']]\n"
     ]
    }
   ],
   "source": [
    "a.append([32, 54, 'Adas'])\n",
    "print(a)"
   ]
  },
  {
   "cell_type": "code",
   "execution_count": 7,
   "metadata": {
    "colab": {
     "base_uri": "https://localhost:8080/"
    },
    "id": "zoa1EKeRC7d1",
    "outputId": "29fa4c62-d700-421b-a214-040aba6ca9f2"
   },
   "outputs": [
    {
     "name": "stdout",
     "output_type": "stream",
     "text": [
      "[1, 1, 2, 3, 5, 2, 6, 7, 5, [32, 54, 'Adas']]\n"
     ]
    }
   ],
   "source": [
    "a.remove(7)\n",
    "print(a)"
   ]
  },
  {
   "cell_type": "code",
   "execution_count": 8,
   "metadata": {
    "colab": {
     "base_uri": "https://localhost:8080/"
    },
    "id": "oqhRk2cmDHYq",
    "outputId": "d67fe062-86c2-453d-e54f-ded39143f92d"
   },
   "outputs": [
    {
     "data": {
      "text/plain": [
       "2"
      ]
     },
     "execution_count": 8,
     "metadata": {},
     "output_type": "execute_result"
    }
   ],
   "source": [
    "c.count(1)"
   ]
  },
  {
   "cell_type": "markdown",
   "metadata": {
    "id": "DdHn5DE_DYcT"
   },
   "source": [
    "In general, tuples are faster than lists, but lists have many more atributes and options. To see which options either have, type the variable with dot (\".\") after it and wait to see the options. To see what each option will do, you can type a question mark (\"?\") before it and run the cell. Now run the cell below and see what happens."
   ]
  },
  {
   "cell_type": "code",
   "execution_count": 9,
   "metadata": {
    "id": "oCXXkeiYDRVU"
   },
   "outputs": [],
   "source": [
    "?a.sort"
   ]
  },
  {
   "cell_type": "markdown",
   "metadata": {
    "id": "lBgLNtc5FBRd"
   },
   "source": [
    "Now using the options introduced above, try to make the list \"a\" to look like the tuple \"c\"."
   ]
  },
  {
   "cell_type": "code",
   "execution_count": 10,
   "metadata": {
    "id": "xIzDK-nzFRMx"
   },
   "outputs": [
    {
     "name": "stdout",
     "output_type": "stream",
     "text": [
      "[1, 1, 2, 3, 5, 2, 6, 7, 5]\n"
     ]
    }
   ],
   "source": [
    "a.remove([32, 54, 'Adas'])\n",
    "print(a)"
   ]
  },
  {
   "cell_type": "code",
   "execution_count": 11,
   "metadata": {},
   "outputs": [
    {
     "name": "stdout",
     "output_type": "stream",
     "text": [
      "[1, 1, 2, 3, 5, 2, 6, 7, 5, 7]\n"
     ]
    }
   ],
   "source": [
    "a.append(7)\n",
    "print(a)"
   ]
  },
  {
   "cell_type": "markdown",
   "metadata": {
    "id": "_6aNCn3BEsI9"
   },
   "source": [
    "# Loops and indexing"
   ]
  },
  {
   "cell_type": "markdown",
   "metadata": {
    "id": "MOyuvrKdE1Uo"
   },
   "source": [
    "You can access the members of a list (or tuple) with indexing them as follows:"
   ]
  },
  {
   "cell_type": "code",
   "execution_count": 12,
   "metadata": {
    "colab": {
     "base_uri": "https://localhost:8080/"
    },
    "id": "1QpIBOKOEXG3",
    "outputId": "b75734ab-ba70-4041-c43a-3c9135d69c3e"
   },
   "outputs": [
    {
     "name": "stdout",
     "output_type": "stream",
     "text": [
      "The first member of tuple \"c\" is: 1\n",
      "The third member of tuple \"c\" is: Ellipsis\n",
      "The last member of tuple \"c\" is: 5\n",
      "The third to last member of tuple \"c\" is: Ellipsis\n"
     ]
    }
   ],
   "source": [
    "print('The first member of tuple \"c\" is:', c[0])\n",
    "print('The third member of tuple \"c\" is:', ...)\n",
    "print('The last member of tuple \"c\" is:', c[-1])\n",
    "print('The third to last member of tuple \"c\" is:', ...)"
   ]
  },
  {
   "cell_type": "markdown",
   "metadata": {
    "id": "tabEhDpGF2Oc"
   },
   "source": [
    "## For loops\n",
    "Let's see two examples"
   ]
  },
  {
   "cell_type": "code",
   "execution_count": 13,
   "metadata": {
    "colab": {
     "base_uri": "https://localhost:8080/"
    },
    "id": "jpW9oM01FfdT",
    "outputId": "7dbe5a17-3fb1-4231-a039-4b781ae568e0"
   },
   "outputs": [
    {
     "name": "stdout",
     "output_type": "stream",
     "text": [
      "0\n",
      "1\n",
      "2\n",
      "3\n",
      "4\n"
     ]
    }
   ],
   "source": [
    "for i in range(5):\n",
    "  print(i)"
   ]
  },
  {
   "cell_type": "code",
   "execution_count": 14,
   "metadata": {
    "colab": {
     "base_uri": "https://localhost:8080/"
    },
    "id": "O5_YYt9uGDfk",
    "outputId": "ceacf547-217f-4bed-c82f-42524aad8683"
   },
   "outputs": [
    {
     "name": "stdout",
     "output_type": "stream",
     "text": [
      "1\n",
      "1\n",
      "4\n",
      "9\n",
      "25\n",
      "4\n",
      "36\n",
      "49\n",
      "49\n",
      "25\n"
     ]
    }
   ],
   "source": [
    "for cc in c:\n",
    "  print(cc**2)"
   ]
  },
  {
   "cell_type": "markdown",
   "metadata": {
    "id": "Ewev8_ZtGU9w"
   },
   "source": [
    "Now write a code to print the members of \"a\" list defiend as below in reverse order."
   ]
  },
  {
   "cell_type": "code",
   "execution_count": 15,
   "metadata": {
    "id": "tPYkPZgTGRBz"
   },
   "outputs": [
    {
     "name": "stdout",
     "output_type": "stream",
     "text": [
      "[32, 54, 'Adas']\n",
      "5\n",
      "7\n",
      "7\n",
      "6\n",
      "2\n",
      "5\n",
      "3\n",
      "2\n",
      "1\n",
      "1\n"
     ]
    }
   ],
   "source": [
    "a = [1, 1, 2, 3, 5, 2, 6, 7, 7, 5, [32, 54, 'Adas']]\n",
    "\n",
    "for i in range(1, len(a)+1):\n",
    "  print(a[-i])"
   ]
  },
  {
   "cell_type": "markdown",
   "metadata": {
    "id": "I7CQa_pOGqeR"
   },
   "source": [
    "## While loops\n",
    "It runs while the argument is true. Compelete the code below to get the desired result."
   ]
  },
  {
   "cell_type": "code",
   "execution_count": 16,
   "metadata": {
    "colab": {
     "base_uri": "https://localhost:8080/"
    },
    "id": "0pQ3WhhCGn6h",
    "outputId": "cd77bbc6-0e52-4d14-c5ac-ede5128717a5"
   },
   "outputs": [
    {
     "name": "stdout",
     "output_type": "stream",
     "text": [
      "1\n",
      "1\n",
      "2\n",
      "3\n",
      "5\n",
      "2\n",
      "6\n",
      "7\n",
      "7\n",
      "5\n",
      "[32, 54, 'Adas']\n"
     ]
    }
   ],
   "source": [
    "i = len(a)\n",
    "while i > 0:\n",
    "  print(a[-i])\n",
    "  i -= 1"
   ]
  },
  {
   "cell_type": "markdown",
   "metadata": {
    "id": "oKPq6XV_Hn_i"
   },
   "source": [
    "# if, else, elif"
   ]
  },
  {
   "cell_type": "code",
   "execution_count": 17,
   "metadata": {
    "colab": {
     "base_uri": "https://localhost:8080/"
    },
    "id": "Nnq513PxHOpD",
    "outputId": "a14665b4-47e0-418d-fded-ed8baab1e195"
   },
   "outputs": [
    {
     "name": "stdout",
     "output_type": "stream",
     "text": [
      "Meh..\n"
     ]
    }
   ],
   "source": [
    "x = 5\n",
    "\n",
    "if x > 5:\n",
    "  print('Yay!!')\n",
    "\n",
    "elif x < 5:\n",
    "  print(\"Nay :(\")\n",
    "\n",
    "else:\n",
    "  print(\"Meh..\")"
   ]
  },
  {
   "cell_type": "markdown",
   "metadata": {
    "id": "H27B7x6oIOj6"
   },
   "source": [
    "Now using the example provided above and your knowledge of loops, write a piece of code to print the apropriate messages for each member of the tuple \"c\". "
   ]
  },
  {
   "cell_type": "code",
   "execution_count": 18,
   "metadata": {
    "id": "qtUvveC4IMh5"
   },
   "outputs": [
    {
     "name": "stdout",
     "output_type": "stream",
     "text": [
      "no\n",
      "no\n",
      "no\n",
      "no\n",
      "no\n",
      "blank\n",
      "yes\n",
      "yes\n",
      "yes\n",
      "yes\n"
     ]
    }
   ],
   "source": [
    "for i in range (1, len(c)+1):\n",
    "  if i > 6:\n",
    "    print('yes')\n",
    "  elif i < 6:\n",
    "    print('no')\n",
    "    \n",
    "  else:\n",
    "    print('blank')\n",
    "  "
   ]
  },
  {
   "cell_type": "markdown",
   "metadata": {
    "id": "k55bka7DJAjh"
   },
   "source": [
    "# Libraries"
   ]
  },
  {
   "cell_type": "markdown",
   "metadata": {
    "id": "8ZTtQ6ZnGMOL"
   },
   "source": [
    "Libraries are collections of many pre-written programs that enable us to write code much more easily. In other words, it's like importing a library expands available python commands.\n",
    "\n",
    "There are three ways to import commands from library.\n",
    "\n",
    "### 1) Import the whole library"
   ]
  },
  {
   "cell_type": "code",
   "execution_count": 19,
   "metadata": {
    "id": "ocTrk5zdJEli"
   },
   "outputs": [],
   "source": [
    "import time"
   ]
  },
  {
   "cell_type": "markdown",
   "metadata": {
    "id": "qOaiUuJKHBZE"
   },
   "source": [
    "Now we can use the commands inside \"time\" by using the familirar \"dot\" operator."
   ]
  },
  {
   "cell_type": "code",
   "execution_count": 20,
   "metadata": {
    "colab": {
     "base_uri": "https://localhost:8080/"
    },
    "id": "AX7uLHGSHVBo",
    "outputId": "9510dbb4-7604-42f9-a63d-d79391afb9ff"
   },
   "outputs": [
    {
     "name": "stdout",
     "output_type": "stream",
     "text": [
      "time.struct_time(tm_year=2022, tm_mon=2, tm_mday=24, tm_hour=14, tm_min=55, tm_sec=2, tm_wday=3, tm_yday=55, tm_isdst=0)\n"
     ]
    }
   ],
   "source": [
    "print(time.localtime())"
   ]
  },
  {
   "cell_type": "markdown",
   "metadata": {
    "id": "mxwqFfuUIh8z"
   },
   "source": [
    "### 2) Import certain functions (or classes) from a library"
   ]
  },
  {
   "cell_type": "code",
   "execution_count": 21,
   "metadata": {
    "id": "fvhfYqyfIVJO"
   },
   "outputs": [],
   "source": [
    "from math import pi, sin"
   ]
  },
  {
   "cell_type": "code",
   "execution_count": 22,
   "metadata": {
    "colab": {
     "base_uri": "https://localhost:8080/"
    },
    "id": "LpVcic_mI4tG",
    "outputId": "0b3665f4-9e44-4037-a37a-adf09af060d1"
   },
   "outputs": [
    {
     "name": "stdout",
     "output_type": "stream",
     "text": [
      "1.0\n"
     ]
    }
   ],
   "source": [
    "print(sin(pi/2))"
   ]
  },
  {
   "cell_type": "markdown",
   "metadata": {
    "id": "Aljr12tMI-Vl"
   },
   "source": [
    "### 3) Import the whole library or certain commands with a different name"
   ]
  },
  {
   "cell_type": "code",
   "execution_count": 23,
   "metadata": {
    "id": "iSpdWAgCI7S6"
   },
   "outputs": [],
   "source": [
    "import numpy as np\n",
    "from matplotlib import pyplot as plt"
   ]
  },
  {
   "cell_type": "markdown",
   "metadata": {
    "id": "XRiARr0OJVY-"
   },
   "source": [
    "We are going to learn how to use these two libraries in the next section.\n",
    "\n",
    "## Installing new libraries in Google colab\n",
    "\n",
    "To do this you need the command \"pip\"."
   ]
  },
  {
   "cell_type": "code",
   "execution_count": 24,
   "metadata": {
    "id": "bcFsepOnJROc"
   },
   "outputs": [
    {
     "name": "stdout",
     "output_type": "stream",
     "text": [
      "Collecting sxs\n",
      "  Using cached sxs-2021.0.5-py3-none-any.whl (177 kB)\n",
      "Collecting urllib3<2.0.0,>=1.25.10\n",
      "  Using cached urllib3-1.26.8-py2.py3-none-any.whl (138 kB)\n",
      "Collecting pandas<2.0.0,>=1.1.2\n",
      "  Using cached pandas-1.3.5-cp37-cp37m-win_amd64.whl (10.0 MB)\n",
      "Requirement already satisfied: importlib-metadata<2.0,>=1.0; python_version < \"3.8\" in c:\\users\\melika\\anaconda3\\lib\\site-packages (from sxs) (1.5.0)\n",
      "Requirement already satisfied: h5py<4,>=3 in c:\\users\\melika\\anaconda3\\lib\\site-packages (from sxs) (3.6.0)\n",
      "Collecting quaternionic<2.0,>=1.0\n",
      "  Using cached quaternionic-1.0.1-py3-none-any.whl (34 kB)\n",
      "Collecting requests<3.0.0,>=2.24.0\n",
      "  Using cached requests-2.27.1-py2.py3-none-any.whl (63 kB)\n",
      "Requirement already satisfied: pytz<2021.0,>=2020.1 in c:\\users\\melika\\anaconda3\\lib\\site-packages (from sxs) (2020.5)\n",
      "Requirement already satisfied: feedparser<7.0.0,>=6.0.1 in c:\\users\\melika\\anaconda3\\lib\\site-packages (from sxs) (6.0.8)\n",
      "Requirement already satisfied: inflection<0.6.0,>=0.5.1 in c:\\users\\melika\\anaconda3\\lib\\site-packages (from sxs) (0.5.1)\n",
      "Collecting spherical<2.0,>=1.0\n",
      "  Using cached spherical-1.0.10-py3-none-any.whl (54 kB)\n",
      "Collecting tqdm<4.61.2,>=4.48.2\n",
      "  Using cached tqdm-4.61.1-py2.py3-none-any.whl (75 kB)\n",
      "Requirement already satisfied: numpy<2.0,>=1.15 in c:\\users\\melika\\anaconda3\\lib\\site-packages (from sxs) (1.18.1)\n",
      "Requirement already satisfied: pylatexenc<3.0,>=2.7 in c:\\users\\melika\\anaconda3\\lib\\site-packages (from sxs) (2.10)\n",
      "Requirement already satisfied: black>=20.8b1; implementation_name == \"cpython\" in c:\\users\\melika\\anaconda3\\lib\\site-packages (from sxs) (22.1.0)\n",
      "Requirement already satisfied: pytest-forked<2.0.0,>=1.3.0 in c:\\users\\melika\\anaconda3\\lib\\site-packages (from sxs) (1.4.0)\n",
      "Requirement already satisfied: scipy<2.0,>=1.0 in c:\\users\\melika\\anaconda3\\lib\\site-packages (from sxs) (1.4.1)\n",
      "Collecting numba>=0.50; implementation_name == \"cpython\"\n",
      "  Using cached numba-0.55.1-cp37-cp37m-win_amd64.whl (2.4 MB)\n",
      "Requirement already satisfied: python-dateutil>=2.7.3 in c:\\users\\melika\\anaconda3\\lib\\site-packages (from pandas<2.0.0,>=1.1.2->sxs) (2.8.1)\n",
      "Requirement already satisfied: zipp>=0.5 in c:\\users\\melika\\anaconda3\\lib\\site-packages (from importlib-metadata<2.0,>=1.0; python_version < \"3.8\"->sxs) (2.2.0)\n",
      "Requirement already satisfied: cached-property; python_version < \"3.8\" in c:\\users\\melika\\anaconda3\\lib\\site-packages (from h5py<4,>=3->sxs) (1.5.2)\n",
      "Collecting charset-normalizer~=2.0.0; python_version >= \"3\"\n",
      "  Using cached charset_normalizer-2.0.12-py3-none-any.whl (39 kB)\n",
      "Requirement already satisfied: certifi>=2017.4.17 in c:\\users\\melika\\anaconda3\\lib\\site-packages (from requests<3.0.0,>=2.24.0->sxs) (2019.11.28)\n",
      "Requirement already satisfied: idna<4,>=2.5; python_version >= \"3\" in c:\\users\\melika\\anaconda3\\lib\\site-packages (from requests<3.0.0,>=2.24.0->sxs) (2.8)\n",
      "Requirement already satisfied: sgmllib3k in c:\\users\\melika\\anaconda3\\lib\\site-packages (from feedparser<7.0.0,>=6.0.1->sxs) (1.0.0)\n",
      "Requirement already satisfied: tomli>=1.1.0 in c:\\users\\melika\\anaconda3\\lib\\site-packages (from black>=20.8b1; implementation_name == \"cpython\"->sxs) (2.0.1)\n",
      "Requirement already satisfied: click>=8.0.0 in c:\\users\\melika\\anaconda3\\lib\\site-packages (from black>=20.8b1; implementation_name == \"cpython\"->sxs) (8.0.4)\n",
      "Requirement already satisfied: typed-ast>=1.4.2; python_version < \"3.8\" and implementation_name == \"cpython\" in c:\\users\\melika\\anaconda3\\lib\\site-packages (from black>=20.8b1; implementation_name == \"cpython\"->sxs) (1.5.2)\n",
      "Requirement already satisfied: pathspec>=0.9.0 in c:\\users\\melika\\anaconda3\\lib\\site-packages (from black>=20.8b1; implementation_name == \"cpython\"->sxs) (0.9.0)\n",
      "Requirement already satisfied: typing-extensions>=3.10.0.0; python_version < \"3.10\" in c:\\users\\melika\\anaconda3\\lib\\site-packages (from black>=20.8b1; implementation_name == \"cpython\"->sxs) (4.1.1)\n",
      "Requirement already satisfied: platformdirs>=2 in c:\\users\\melika\\anaconda3\\lib\\site-packages (from black>=20.8b1; implementation_name == \"cpython\"->sxs) (2.5.1)\n",
      "Requirement already satisfied: mypy-extensions>=0.4.3 in c:\\users\\melika\\anaconda3\\lib\\site-packages (from black>=20.8b1; implementation_name == \"cpython\"->sxs) (0.4.3)\n",
      "Requirement already satisfied: pytest>=3.10 in c:\\users\\melika\\anaconda3\\lib\\site-packages (from pytest-forked<2.0.0,>=1.3.0->sxs) (5.3.5)\n",
      "Requirement already satisfied: py in c:\\users\\melika\\anaconda3\\lib\\site-packages (from pytest-forked<2.0.0,>=1.3.0->sxs) (1.8.1)\n",
      "Requirement already satisfied: setuptools in c:\\users\\melika\\anaconda3\\lib\\site-packages (from numba>=0.50; implementation_name == \"cpython\"->sxs) (45.2.0.post20200210)\n",
      "Collecting llvmlite<0.39,>=0.38.0rc1\n",
      "  Using cached llvmlite-0.38.0-cp37-cp37m-win_amd64.whl (23.2 MB)\n",
      "Requirement already satisfied: six>=1.5 in c:\\users\\melika\\anaconda3\\lib\\site-packages (from python-dateutil>=2.7.3->pandas<2.0.0,>=1.1.2->sxs) (1.14.0)\n",
      "Requirement already satisfied: colorama; platform_system == \"Windows\" in c:\\users\\melika\\anaconda3\\lib\\site-packages (from click>=8.0.0->black>=20.8b1; implementation_name == \"cpython\"->sxs) (0.4.3)\n",
      "Requirement already satisfied: packaging in c:\\users\\melika\\anaconda3\\lib\\site-packages (from pytest>=3.10->pytest-forked<2.0.0,>=1.3.0->sxs) (20.1)\n",
      "Requirement already satisfied: attrs>=17.4.0 in c:\\users\\melika\\anaconda3\\lib\\site-packages (from pytest>=3.10->pytest-forked<2.0.0,>=1.3.0->sxs) (19.3.0)\n",
      "Requirement already satisfied: more-itertools>=4.0.0 in c:\\users\\melika\\anaconda3\\lib\\site-packages (from pytest>=3.10->pytest-forked<2.0.0,>=1.3.0->sxs) (8.2.0)\n",
      "Requirement already satisfied: pluggy<1.0,>=0.12 in c:\\users\\melika\\anaconda3\\lib\\site-packages (from pytest>=3.10->pytest-forked<2.0.0,>=1.3.0->sxs) (0.13.1)\n",
      "Requirement already satisfied: wcwidth in c:\\users\\melika\\anaconda3\\lib\\site-packages (from pytest>=3.10->pytest-forked<2.0.0,>=1.3.0->sxs) (0.1.8)\n",
      "Requirement already satisfied: atomicwrites>=1.0 in c:\\users\\melika\\anaconda3\\lib\\site-packages (from pytest>=3.10->pytest-forked<2.0.0,>=1.3.0->sxs) (1.3.0)\n",
      "Requirement already satisfied: pyparsing>=2.0.2 in c:\\users\\melika\\anaconda3\\lib\\site-packages (from packaging->pytest>=3.10->pytest-forked<2.0.0,>=1.3.0->sxs) (2.4.6)\n",
      "Installing collected packages: urllib3, pandas, llvmlite, numba, quaternionic, charset-normalizer, requests, spherical, tqdm, sxs\n",
      "  Attempting uninstall: urllib3\n",
      "    Found existing installation: urllib3 1.25.8\n",
      "    Uninstalling urllib3-1.25.8:\n",
      "      Successfully uninstalled urllib3-1.25.8\n",
      "  Attempting uninstall: pandas\n",
      "    Found existing installation: pandas 1.0.1\n",
      "    Uninstalling pandas-1.0.1:\n",
      "      Successfully uninstalled pandas-1.0.1\n",
      "  Attempting uninstall: llvmlite\n",
      "    Found existing installation: llvmlite 0.31.0\n"
     ]
    },
    {
     "name": "stderr",
     "output_type": "stream",
     "text": [
      "ERROR: Cannot uninstall 'llvmlite'. It is a distutils installed project and thus we cannot accurately determine which files belong to it which would lead to only a partial uninstall.\n"
     ]
    }
   ],
   "source": [
    "!pip install sxs"
   ]
  },
  {
   "cell_type": "markdown",
   "metadata": {
    "id": "uGJRJ9JzKQ2F"
   },
   "source": [
    "'sxs' is a library for simulation gravitational waves. We won't be needing this in this course."
   ]
  },
  {
   "cell_type": "markdown",
   "metadata": {
    "id": "DL-uBXefKbIS"
   },
   "source": [
    "# Numpy\n",
    "\n",
    "Numpy is the standard library for doing numerical calculations for scientific purposes in python. It provides a new kind of data sructure called \"numpy array\". While it is more restrictive that normal python lists, it enables us to do vector operations which is (for the most part) much faster. It also provides a wide range of mathematical and statistical operations for the arrys. Let's import numpy and see some examples."
   ]
  },
  {
   "cell_type": "code",
   "execution_count": 25,
   "metadata": {
    "id": "B7kpoan6JsM8"
   },
   "outputs": [],
   "source": [
    "import numpy as np"
   ]
  },
  {
   "cell_type": "code",
   "execution_count": 26,
   "metadata": {
    "colab": {
     "base_uri": "https://localhost:8080/"
    },
    "id": "DaElHodKQIz3",
    "outputId": "7d9aa62e-d714-4c05-d64c-4c6e1ee9e538"
   },
   "outputs": [
    {
     "name": "stdout",
     "output_type": "stream",
     "text": [
      "[ 1  1  2  3  5  8 13 21 34]\n"
     ]
    }
   ],
   "source": [
    "a = np.array([1, 1, 2, 3, 5, 8, 13, 21, 34])\n",
    "print(a)"
   ]
  },
  {
   "cell_type": "code",
   "execution_count": 27,
   "metadata": {
    "colab": {
     "base_uri": "https://localhost:8080/"
    },
    "id": "nle3HxRYQVBp",
    "outputId": "94a95c34-dc73-455d-ec14-db9f9b6e303d"
   },
   "outputs": [
    {
     "name": "stdout",
     "output_type": "stream",
     "text": [
      "88\n"
     ]
    }
   ],
   "source": [
    "print(np.sum(a))"
   ]
  },
  {
   "cell_type": "code",
   "execution_count": 28,
   "metadata": {
    "colab": {
     "base_uri": "https://localhost:8080/"
    },
    "id": "wusgbQ1KQae5",
    "outputId": "9de8fa11-636e-4d4f-8375-fa58d9a139d7"
   },
   "outputs": [
    {
     "data": {
      "text/plain": [
       "34"
      ]
     },
     "execution_count": 28,
     "metadata": {},
     "output_type": "execute_result"
    }
   ],
   "source": [
    "a.max()"
   ]
  },
  {
   "cell_type": "code",
   "execution_count": 29,
   "metadata": {
    "colab": {
     "base_uri": "https://localhost:8080/"
    },
    "id": "RkYpGT6PQf5R",
    "outputId": "ebd27e0e-7d03-471f-aa5f-c810da38f085"
   },
   "outputs": [
    {
     "data": {
      "text/plain": [
       "9.777777777777779"
      ]
     },
     "execution_count": 29,
     "metadata": {},
     "output_type": "execute_result"
    }
   ],
   "source": [
    "a.mean()"
   ]
  },
  {
   "cell_type": "markdown",
   "metadata": {
    "id": "7R38qRnARVC0"
   },
   "source": [
    "And for some vectorized operations:"
   ]
  },
  {
   "cell_type": "code",
   "execution_count": 30,
   "metadata": {
    "colab": {
     "base_uri": "https://localhost:8080/"
    },
    "id": "SQ26mSiBQisy",
    "outputId": "058faa30-e047-48b1-e3c6-bc663eba108e"
   },
   "outputs": [
    {
     "name": "stdout",
     "output_type": "stream",
     "text": [
      "[  3   3   6   9  15  24  39  63 102]\n"
     ]
    }
   ],
   "source": [
    "print(3 * a)"
   ]
  },
  {
   "cell_type": "code",
   "execution_count": 31,
   "metadata": {
    "colab": {
     "base_uri": "https://localhost:8080/"
    },
    "id": "5k_XVQbpReDR",
    "outputId": "afe7f2bd-2e33-42f8-e6bd-ed48acf65b47"
   },
   "outputs": [
    {
     "name": "stdout",
     "output_type": "stream",
     "text": [
      "[1. 1. 1. 1. 1. 1. 1. 1. 1.]\n"
     ]
    }
   ],
   "source": [
    "b = np.ones(len(a))\n",
    "print(b)"
   ]
  },
  {
   "cell_type": "code",
   "execution_count": 32,
   "metadata": {
    "colab": {
     "base_uri": "https://localhost:8080/"
    },
    "id": "yWAPPwt9Rkux",
    "outputId": "5fa30112-0ab5-4b61-ec8c-9c70799f1a89"
   },
   "outputs": [
    {
     "name": "stdout",
     "output_type": "stream",
     "text": [
      "[ 2.  2.  3.  4.  6.  9. 14. 22. 35.]\n"
     ]
    }
   ],
   "source": [
    "print(a + b)"
   ]
  },
  {
   "cell_type": "code",
   "execution_count": 33,
   "metadata": {
    "colab": {
     "base_uri": "https://localhost:8080/"
    },
    "id": "UcqXY3VrRpmz",
    "outputId": "89a2426f-1000-4a31-b80c-6f4596b32546"
   },
   "outputs": [
    {
     "name": "stdout",
     "output_type": "stream",
     "text": [
      "2.0\n",
      "2.0\n",
      "3.0\n",
      "4.0\n",
      "6.0\n",
      "9.0\n",
      "14.0\n",
      "22.0\n",
      "35.0\n"
     ]
    }
   ],
   "source": [
    "for i in range(len(a)):\n",
    "  print(a[i] + b[i])"
   ]
  },
  {
   "cell_type": "markdown",
   "metadata": {
    "id": "cKyYeSrzR0pp"
   },
   "source": [
    "As you might have noticed, array \"a\" shows the first 9 Fibonacci numbers. Now write a piece of code to turn b into a."
   ]
  },
  {
   "cell_type": "code",
   "execution_count": 34,
   "metadata": {
    "id": "Z8eITGJVRxYq"
   },
   "outputs": [
    {
     "name": "stdout",
     "output_type": "stream",
     "text": [
      "[ 1.  1.  2.  3.  5.  8. 13. 21. 34.]\n"
     ]
    }
   ],
   "source": [
    "for i in range(1, 8):    \n",
    "    b[i+1] = b[i] + b[i-1]\n",
    "print(b)\n",
    "    "
   ]
  },
  {
   "cell_type": "markdown",
   "metadata": {
    "id": "spvEllTiSrS9"
   },
   "source": [
    "As another exercise, make a numpy array of size 100 using \"linspace\" between 0 and 2$\\pi$, and calculate the sine of each member in a vectorized manner and put it in a new array."
   ]
  },
  {
   "cell_type": "code",
   "execution_count": 35,
   "metadata": {
    "id": "eNVqlpgMSjIJ"
   },
   "outputs": [
    {
     "name": "stdout",
     "output_type": "stream",
     "text": [
      "[0.         0.06346652 0.12693304 0.19039955 0.25386607 0.31733259\n",
      " 0.38079911 0.44426563 0.50773215 0.57119866 0.63466518 0.6981317\n",
      " 0.76159822 0.82506474 0.88853126 0.95199777 1.01546429 1.07893081\n",
      " 1.14239733 1.20586385 1.26933037 1.33279688 1.3962634  1.45972992\n",
      " 1.52319644 1.58666296 1.65012947 1.71359599 1.77706251 1.84052903\n",
      " 1.90399555 1.96746207 2.03092858 2.0943951  2.15786162 2.22132814\n",
      " 2.28479466 2.34826118 2.41172769 2.47519421 2.53866073 2.60212725\n",
      " 2.66559377 2.72906028 2.7925268  2.85599332 2.91945984 2.98292636\n",
      " 3.04639288 3.10985939 3.17332591 3.23679243 3.30025895 3.36372547\n",
      " 3.42719199 3.4906585  3.55412502 3.61759154 3.68105806 3.74452458\n",
      " 3.8079911  3.87145761 3.93492413 3.99839065 4.06185717 4.12532369\n",
      " 4.1887902  4.25225672 4.31572324 4.37918976 4.44265628 4.5061228\n",
      " 4.56958931 4.63305583 4.69652235 4.75998887 4.82345539 4.88692191\n",
      " 4.95038842 5.01385494 5.07732146 5.14078798 5.2042545  5.26772102\n",
      " 5.33118753 5.39465405 5.45812057 5.52158709 5.58505361 5.64852012\n",
      " 5.71198664 5.77545316 5.83891968 5.9023862  5.96585272 6.02931923\n",
      " 6.09278575 6.15625227 6.21971879 6.28318531]\n",
      "[ 0.00000000e+00  6.34239197e-02  1.26592454e-01  1.89251244e-01\n",
      "  2.51147987e-01  3.12033446e-01  3.71662456e-01  4.29794912e-01\n",
      "  4.86196736e-01  5.40640817e-01  5.92907929e-01  6.42787610e-01\n",
      "  6.90079011e-01  7.34591709e-01  7.76146464e-01  8.14575952e-01\n",
      "  8.49725430e-01  8.81453363e-01  9.09631995e-01  9.34147860e-01\n",
      "  9.54902241e-01  9.71811568e-01  9.84807753e-01  9.93838464e-01\n",
      "  9.98867339e-01  9.99874128e-01  9.96854776e-01  9.89821442e-01\n",
      "  9.78802446e-01  9.63842159e-01  9.45000819e-01  9.22354294e-01\n",
      "  8.95993774e-01  8.66025404e-01  8.32569855e-01  7.95761841e-01\n",
      "  7.55749574e-01  7.12694171e-01  6.66769001e-01  6.18158986e-01\n",
      "  5.67059864e-01  5.13677392e-01  4.58226522e-01  4.00930535e-01\n",
      "  3.42020143e-01  2.81732557e-01  2.20310533e-01  1.58001396e-01\n",
      "  9.50560433e-02  3.17279335e-02 -3.17279335e-02 -9.50560433e-02\n",
      " -1.58001396e-01 -2.20310533e-01 -2.81732557e-01 -3.42020143e-01\n",
      " -4.00930535e-01 -4.58226522e-01 -5.13677392e-01 -5.67059864e-01\n",
      " -6.18158986e-01 -6.66769001e-01 -7.12694171e-01 -7.55749574e-01\n",
      " -7.95761841e-01 -8.32569855e-01 -8.66025404e-01 -8.95993774e-01\n",
      " -9.22354294e-01 -9.45000819e-01 -9.63842159e-01 -9.78802446e-01\n",
      " -9.89821442e-01 -9.96854776e-01 -9.99874128e-01 -9.98867339e-01\n",
      " -9.93838464e-01 -9.84807753e-01 -9.71811568e-01 -9.54902241e-01\n",
      " -9.34147860e-01 -9.09631995e-01 -8.81453363e-01 -8.49725430e-01\n",
      " -8.14575952e-01 -7.76146464e-01 -7.34591709e-01 -6.90079011e-01\n",
      " -6.42787610e-01 -5.92907929e-01 -5.40640817e-01 -4.86196736e-01\n",
      " -4.29794912e-01 -3.71662456e-01 -3.12033446e-01 -2.51147987e-01\n",
      " -1.89251244e-01 -1.26592454e-01 -6.34239197e-02 -2.44929360e-16]\n"
     ]
    }
   ],
   "source": [
    "from numpy import pi\n",
    "x = np.linspace(0, 2*pi, 100)\n",
    "y = np.sin(x)\n",
    "print(x)\n",
    "print(y)"
   ]
  },
  {
   "cell_type": "markdown",
   "metadata": {
    "id": "saZ3z0KYTUWj"
   },
   "source": [
    "# Matplotlib\n",
    "\n",
    "Matplotlib is a library used for simple plotting. It is basically the python version of Matlab plot and is sufficient for most scientific purposes. There are also more advanced plotting libraries like \"Seaborn\" and \"Plotly\"."
   ]
  },
  {
   "cell_type": "code",
   "execution_count": 36,
   "metadata": {
    "id": "02HbUlGcTV8A"
   },
   "outputs": [],
   "source": [
    "import matplotlib.pyplot as plt"
   ]
  },
  {
   "cell_type": "markdown",
   "metadata": {
    "id": "lQFAQDrL7wSF"
   },
   "source": [
    "Now lt's plot the sine function we made above"
   ]
  },
  {
   "cell_type": "code",
   "execution_count": 37,
   "metadata": {
    "colab": {
     "base_uri": "https://localhost:8080/",
     "height": 265
    },
    "id": "r9TQM6lx7OE6",
    "outputId": "9c44c158-77ba-4021-de3b-71657e227ae6"
   },
   "outputs": [
    {
     "data": {
      "image/png": "[encoded data removed]",
      "text/plain": [
       "<Figure size 432x288 with 1 Axes>"
      ]
     },
     "metadata": {
      "needs_background": "light"
     },
     "output_type": "display_data"
    }
   ],
   "source": [
    "plt.plot(x, y)\n",
    "plt.show()"
   ]
  },
  {
   "cell_type": "markdown",
   "metadata": {
    "id": "CXqyajxWB8B9"
   },
   "source": [
    "This is the basic plotting function. you can add labels, legends, change fonts, etc..\n",
    "\n",
    "As an exercise, add labels for the x and y axes to the plot above, and also label the line."
   ]
  },
  {
   "cell_type": "markdown",
   "metadata": {
    "id": "iFsiIHEhCTV1"
   },
   "source": [
    "# Reading and writing files using numpy"
   ]
  },
  {
   "cell_type": "markdown",
   "metadata": {
    "id": "YvU9h3qB4mTh"
   },
   "source": [
    "For reading and writing text files with numpy, we can use \"readtxt\" and \"savetxt\" commands. Let's see some examples."
   ]
  },
  {
   "cell_type": "code",
   "execution_count": 38,
   "metadata": {
    "id": "2F9Aj3U2B5lm"
   },
   "outputs": [],
   "source": [
    "data_to_save = np.column_stack((x, y))\n",
    "np.savetxt('sine_function', data_to_save)"
   ]
  },
  {
   "cell_type": "markdown",
   "metadata": {
    "id": "za8hZb0-6JQA"
   },
   "source": [
    "Now for exercise, try to save the data with a header."
   ]
  },
  {
   "cell_type": "code",
   "execution_count": 39,
   "metadata": {
    "id": "PTbnSI7f5fFm"
   },
   "outputs": [],
   "source": [
    "data_to_read = np.loadtxt('sine_function')"
   ]
  },
  {
   "cell_type": "markdown",
   "metadata": {
    "id": "E-Kk80Rx6cz_"
   },
   "source": [
    "To see whether it's the same data or not, we can plot it."
   ]
  },
  {
   "cell_type": "code",
   "execution_count": 40,
   "metadata": {
    "colab": {
     "base_uri": "https://localhost:8080/",
     "height": 265
    },
    "id": "XAxnOkuY6bs8",
    "outputId": "af73c503-554c-496d-e4c8-1b3788315d84"
   },
   "outputs": [
    {
     "data": {
      "image/png": "[encoded data removed]",
      "text/plain": [
       "<Figure size 432x288 with 1 Axes>"
      ]
     },
     "metadata": {
      "needs_background": "light"
     },
     "output_type": "display_data"
    }
   ],
   "source": [
    "plt.plot(data_to_read[:,0], data_to_read[:,1])\n",
    "plt.show()"
   ]
  },
  {
   "cell_type": "markdown",
   "metadata": {
    "id": "6GeMrWtQ7DPQ"
   },
   "source": [
    "Now as an exercise, try to read the file into twe seperate variables. (insted of having just \"data_to_read\" read it into \"x\" and \"y\", each corresponding to an axis."
   ]
  },
  {
   "cell_type": "markdown",
   "metadata": {
    "id": "xmDKg62f7W_7"
   },
   "source": [
    "# Functions"
   ]
  },
  {
   "cell_type": "markdown",
   "metadata": {
    "id": "PxzTkElg7g6U"
   },
   "source": [
    "Functions in python, are defined using the command \"def\". If a variable is defined inside of a function, when we run that function, the variable is local and it's value is lost when we retrun the function. On the other hand if we do not define a variable tha we use in a function, function tries to read a globally defined variable with the same name. If it is not defined before running the function, we will see an error.\n",
    "\n",
    "As an example, let's define a function that returns the sum of two input variables."
   ]
  },
  {
   "cell_type": "code",
   "execution_count": 41,
   "metadata": {
    "id": "AyPpaWAa6tn4"
   },
   "outputs": [],
   "source": [
    "def my_sum_function(x, y):\n",
    "  return x + y"
   ]
  },
  {
   "cell_type": "code",
   "execution_count": 42,
   "metadata": {
    "colab": {
     "base_uri": "https://localhost:8080/"
    },
    "id": "ei-6Gq_B8xCO",
    "outputId": "3a14de9f-188b-4797-ab0e-defe79bf7c71"
   },
   "outputs": [
    {
     "data": {
      "text/plain": [
       "22"
      ]
     },
     "execution_count": 42,
     "metadata": {},
     "output_type": "execute_result"
    }
   ],
   "source": [
    "my_sum_function(10, 12)"
   ]
  },
  {
   "cell_type": "markdown",
   "metadata": {
    "id": "8KL1PUGt81cZ"
   },
   "source": [
    "Now try to write a function that reads a number N and returns the Nth Fibonacci number."
   ]
  },
  {
   "cell_type": "code",
   "execution_count": 43,
   "metadata": {
    "id": "mEabqHWb80ak"
   },
   "outputs": [
    {
     "name": "stdout",
     "output_type": "stream",
     "text": [
      "13\n"
     ]
    }
   ],
   "source": [
    "def Fibonacci(N):\n",
    "    F=1\n",
    "    F=2\n",
    "    if N <= 0:\n",
    "        print(\"No\")\n",
    "    elif N == 1:\n",
    "        return 0\n",
    "    elif N == 2:\n",
    "        return 1\n",
    "    else:\n",
    "        return Fibonacci(N-1)+ Fibonacci(N-2)\n",
    "print(Fibonacci(8))"
   ]
  },
  {
   "cell_type": "code",
   "execution_count": null,
   "metadata": {},
   "outputs": [],
   "source": []
  }
 ],
 "metadata": {
  "colab": {
   "collapsed_sections": [
    "03P8_w5l-Qeo",
    "_6aNCn3BEsI9",
    "tabEhDpGF2Oc",
    "I7CQa_pOGqeR",
    "oKPq6XV_Hn_i",
    "k55bka7DJAjh",
    "8ZTtQ6ZnGMOL",
    "mxwqFfuUIh8z",
    "Aljr12tMI-Vl",
    "XRiARr0OJVY-",
    "DL-uBXefKbIS",
    "saZ3z0KYTUWj"
   ],
   "name": "Set_01.ipynb",
   "provenance": []
  },
  "kernelspec": {
   "display_name": "Python 3",
   "language": "python",
   "name": "python3"
  },
  "language_info": {
   "codemirror_mode": {
    "name": "ipython",
    "version": 3
   },
   "file_extension": ".py",
   "mimetype": "text/x-python",
   "name": "python",
   "nbconvert_exporter": "python",
   "pygments_lexer": "ipython3",
   "version": "3.7.6"
  }
 },
 "nbformat": 4,
 "nbformat_minor": 1
}
